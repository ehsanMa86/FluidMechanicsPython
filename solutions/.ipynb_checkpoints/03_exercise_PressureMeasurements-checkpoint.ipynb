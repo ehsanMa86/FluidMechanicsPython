{
 "cells": [
  {
   "cell_type": "code",
   "execution_count": 2,
   "metadata": {},
   "outputs": [],
   "source": [
    "from IPython.display import Image        #load image embedder"
   ]
  },
  {
   "cell_type": "markdown",
   "metadata": {},
   "source": [
    "### Exercise 4:\n",
    "***"
   ]
  },
  {
   "cell_type": "markdown",
   "metadata": {},
   "source": [
    "The inverted U-tube manometer contains oil of specific gravity 0.9. The pressure differential between the pipes $p_A - p_B$ is $-5$ kPa and the specific weight of water is $9800 \\,\\, \\mathrm{N/m^3}$. Thereading h is most nearly"
   ]
  },
  {
   "cell_type": "code",
   "execution_count": 3,
   "metadata": {},
   "outputs": [
    {
     "data": {
      "image/png": "[encoded data removed]",
      "text/plain": [
       "<IPython.core.display.Image object>"
      ]
     },
     "execution_count": 3,
     "metadata": {},
     "output_type": "execute_result"
    }
   ],
   "source": [
    "Image(\"./../resources/invertedUTube.png\")"
   ]
  },
  {
   "cell_type": "markdown",
   "metadata": {},
   "source": [
    "### Solution:\n",
    "***"
   ]
  },
  {
   "cell_type": "markdown",
   "metadata": {},
   "source": [
    "$$p_A = \\gamma (0.2) - \\gamma_{o} h - \\gamma (0.3) + p_B$$\n",
    "\n",
    "$$p_A - p_B = \\gamma (0.2) - \\gamma_{o} h - \\gamma (0.3) $$\n",
    "\n",
    "$$ h = \\frac{-(p_A - p_B) + \\gamma (0.2) - \\gamma (0.3)}{\\gamma_{o}} = $$\n",
    "\n",
    "$$ h = \\frac{-(p_A - p_B) - \\gamma (0.1)}{SG_o \\gamma} = $$\n",
    "\n",
    "$$ h = \\frac{-(- 5 \\times 10^3) - 9800 \\times 0.1}{0.9 \\times 9800} = $$\n",
    "\n",
    "$$h = 0.456 m = 456 mm$$"
   ]
  }
 ],
 "metadata": {
  "kernelspec": {
   "display_name": "Python 3",
   "language": "python",
   "name": "python3"
  },
  "language_info": {
   "codemirror_mode": {
    "name": "ipython",
    "version": 3
   },
   "file_extension": ".py",
   "mimetype": "text/x-python",
   "name": "python",
   "nbconvert_exporter": "python",
   "pygments_lexer": "ipython3",
   "version": "3.7.6"
  }
 },
 "nbformat": 4,
 "nbformat_minor": 4
}
